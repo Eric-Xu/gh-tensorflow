{
 "metadata": {
  "name": "",
  "signature": "sha256:3c04c2d3a3834d439d69e27abd8b97c5af20d3c0d5723ba77091f136ac124716"
 },
 "nbformat": 3,
 "nbformat_minor": 0,
 "worksheets": [
  {
   "cells": [
    {
     "cell_type": "code",
     "collapsed": false,
     "input": [
      "import pandas as pd\n",
      "import numpy as np\n",
      "from sklearn.pipeline import Pipeline, FeatureUnion\n",
      "from sklearn.feature_extraction.text import CountVectorizer, TfidfVectorizer, TfidfTransformer\n",
      "from sklearn.linear_model import LinearRegression\n",
      "from sklearn.naive_bayes import GaussianNB, MultinomialNB, BernoulliNB\n",
      "from sklearn.cross_validation import train_test_split, cross_val_score, KFold\n",
      "from sklearn.metrics import r2_score, explained_variance_score, accuracy_score\n",
      "from sklearn.decomposition import PCA\n",
      "from sklearn.base import TransformerMixin"
     ],
     "language": "python",
     "metadata": {},
     "outputs": [],
     "prompt_number": 64
    },
    {
     "cell_type": "markdown",
     "metadata": {},
     "source": [
      "### 1. Load In 1000 Article Headlines and Page Views"
     ]
    },
    {
     "cell_type": "code",
     "collapsed": false,
     "input": [
      "df = pd.read_csv(\"data/livewire1000.csv\")"
     ],
     "language": "python",
     "metadata": {},
     "outputs": [],
     "prompt_number": 65
    },
    {
     "cell_type": "code",
     "collapsed": false,
     "input": [
      "df.head()"
     ],
     "language": "python",
     "metadata": {},
     "outputs": [
      {
       "html": [
        "<div style=\"max-height:1000px;max-width:1500px;overflow:auto;\">\n",
        "<table border=\"1\" class=\"dataframe\">\n",
        "  <thead>\n",
        "    <tr style=\"text-align: right;\">\n",
        "      <th></th>\n",
        "      <th>title</th>\n",
        "      <th>views</th>\n",
        "      <th>log_views</th>\n",
        "    </tr>\n",
        "  </thead>\n",
        "  <tbody>\n",
        "    <tr>\n",
        "      <th>0</th>\n",
        "      <td> Ancient Crimean Gold In Legal Limbo After Russ...</td>\n",
        "      <td>  1435</td>\n",
        "      <td>  7.268920</td>\n",
        "    </tr>\n",
        "    <tr>\n",
        "      <th>1</th>\n",
        "      <td> California Sec. Of State Candidate Arrested In...</td>\n",
        "      <td> 12418</td>\n",
        "      <td>  9.426902</td>\n",
        "    </tr>\n",
        "    <tr>\n",
        "      <th>2</th>\n",
        "      <td> Planet Biden: Scientists Nickname New Dwarf Pl...</td>\n",
        "      <td>  7351</td>\n",
        "      <td>  8.902592</td>\n",
        "    </tr>\n",
        "    <tr>\n",
        "      <th>3</th>\n",
        "      <td> Mass. Guv Candidate Passes Kidney Stone During...</td>\n",
        "      <td> 35843</td>\n",
        "      <td> 10.486904</td>\n",
        "    </tr>\n",
        "    <tr>\n",
        "      <th>4</th>\n",
        "      <td> Charlotte's Brand New Mayor Turns Out To Be A ...</td>\n",
        "      <td>  8466</td>\n",
        "      <td>  9.043813</td>\n",
        "    </tr>\n",
        "  </tbody>\n",
        "</table>\n",
        "</div>"
       ],
       "metadata": {},
       "output_type": "pyout",
       "prompt_number": 66,
       "text": [
        "                                               title  views  log_views\n",
        "0  Ancient Crimean Gold In Legal Limbo After Russ...   1435   7.268920\n",
        "1  California Sec. Of State Candidate Arrested In...  12418   9.426902\n",
        "2  Planet Biden: Scientists Nickname New Dwarf Pl...   7351   8.902592\n",
        "3  Mass. Guv Candidate Passes Kidney Stone During...  35843  10.486904\n",
        "4  Charlotte's Brand New Mayor Turns Out To Be A ...   8466   9.043813"
       ]
      }
     ],
     "prompt_number": 66
    },
    {
     "cell_type": "markdown",
     "metadata": {},
     "source": [
      "### 2. Basic Pipeline That Chains CountVectorizer With Tfidf"
     ]
    },
    {
     "cell_type": "markdown",
     "metadata": {},
     "source": [
      "<img src=\"image/pipeline_basic.png\" align=\"left\" width=\"160\" />"
     ]
    },
    {
     "cell_type": "code",
     "collapsed": false,
     "input": [
      "cv_featurizer = Pipeline([\n",
      "    ('vect', CountVectorizer()),\n",
      "    ('tfidf', TfidfTransformer()),\n",
      "    ('clf', LinearRegression())\n",
      "])"
     ],
     "language": "python",
     "metadata": {},
     "outputs": [],
     "prompt_number": 67
    },
    {
     "cell_type": "code",
     "collapsed": false,
     "input": [
      "X = df.title.values\n",
      "y = df.log_views\n",
      "\n",
      "X_train, X_test, y_train, y_test = train_test_split(X, y, test_size=0.33, random_state=12345)"
     ],
     "language": "python",
     "metadata": {},
     "outputs": [],
     "prompt_number": 68
    },
    {
     "cell_type": "code",
     "collapsed": false,
     "input": [
      "cv_featurizer = cv_featurizer.fit(X_train, y_train)\n",
      "predictions = cv_featurizer.predict(X_test)"
     ],
     "language": "python",
     "metadata": {},
     "outputs": [],
     "prompt_number": 69
    },
    {
     "cell_type": "code",
     "collapsed": false,
     "input": [
      "r2 = r2_score(y_test, predictions)\n",
      "ev = explained_variance_score(y_test, predictions)\n",
      "rmse = np.sqrt(np.mean((predictions - y_test)**2))\n",
      "print \"r2\", r2\n",
      "print \"ev\", ev\n",
      "print \"rmse\", rmse"
     ],
     "language": "python",
     "metadata": {},
     "outputs": [
      {
       "output_type": "stream",
       "stream": "stdout",
       "text": [
        "r2 -0.0646044187049\n",
        "ev -0.0585157637148\n",
        "rmse 1.41484784735\n"
       ]
      }
     ],
     "prompt_number": 70
    },
    {
     "cell_type": "code",
     "collapsed": false,
     "input": [
      "page_views = np.exp(cv_featurizer.predict(X_test[1]))\n",
      "print X_test[1]\n",
      "print \"predicted: %0.2f\" %(page_views[0])\n",
      "print \"actual: %0.2f\" %(np.exp(y_test[0]))"
     ],
     "language": "python",
     "metadata": {},
     "outputs": [
      {
       "output_type": "stream",
       "stream": "stdout",
       "text": [
        "For First Time, Gay GOP House Candidate Features Partner In Ad\n",
        "predicted: 4084.03\n",
        "actual: 1695.00\n"
       ]
      }
     ],
     "prompt_number": 71
    },
    {
     "cell_type": "markdown",
     "metadata": {},
     "source": [
      "### 3. Compare Prediction Scores of Different Pipeline Compositions"
     ]
    },
    {
     "cell_type": "markdown",
     "metadata": {},
     "source": [
      "<img src=\"image/pipeline_compared.png\" align=\"left\" width=\"600\" />"
     ]
    },
    {
     "cell_type": "code",
     "collapsed": false,
     "input": [
      "class DenseTransformer(TransformerMixin):\n",
      "    \"\"\" \n",
      "    A transformer for scikit-learn's Pipeline class that converts\n",
      "    a sparse matrix into a dense matrix.\n",
      "    \"\"\"\n",
      "    def transform(self, X, y=None):\n",
      "        return X.toarray()\n",
      "\n",
      "    def fit(self, X, y=None):\n",
      "        return self"
     ],
     "language": "python",
     "metadata": {},
     "outputs": [],
     "prompt_number": 72
    },
    {
     "cell_type": "code",
     "collapsed": false,
     "input": [
      "cv_featurizer = Pipeline([\n",
      "    ('vect', CountVectorizer()),\n",
      "    ('clf', LinearRegression())\n",
      "])\n",
      "\n",
      "cv100_featurizer = Pipeline([\n",
      "    ('vect', CountVectorizer(max_features=100)),\n",
      "    ('clf', LinearRegression())\n",
      "])\n",
      "\n",
      "tfidf_featurizer = Pipeline([\n",
      "    ('vect', CountVectorizer()),\n",
      "    ('tfidf', TfidfTransformer()),\n",
      "    ('clf', LinearRegression())\n",
      "])\n",
      "\n",
      "pca_featurizer = Pipeline([\n",
      "    ('vect', CountVectorizer()),\n",
      "    ('to_dense', DenseTransformer()),\n",
      "    ('reduce_dim', PCA(n_components=50)),\n",
      "    ('clf', LinearRegression())\n",
      "])"
     ],
     "language": "python",
     "metadata": {},
     "outputs": [],
     "prompt_number": 73
    },
    {
     "cell_type": "code",
     "collapsed": false,
     "input": [
      "X = df.title.values\n",
      "y = df.log_views\n",
      "\n",
      "X_train, X_test, y_train, y_test = train_test_split(X, y, test_size=0.33, random_state=12345)"
     ],
     "language": "python",
     "metadata": {},
     "outputs": [],
     "prompt_number": 74
    },
    {
     "cell_type": "code",
     "collapsed": false,
     "input": [
      "for clf in [cv_featurizer, cv100_featurizer, tfidf_featurizer, pca_featurizer]:\n",
      "    clf = clf.fit(X_train, y_train)\n",
      "    predictions = clf.predict(X_test)\n",
      "    print \"rmse\", np.sqrt(np.mean((predictions - y_test)**2))"
     ],
     "language": "python",
     "metadata": {},
     "outputs": [
      {
       "output_type": "stream",
       "stream": "stdout",
       "text": [
        "rmse 1.38724834411\n",
        "rmse"
       ]
      },
      {
       "output_type": "stream",
       "stream": "stdout",
       "text": [
        " 1.29354071278\n",
        "rmse 1.41484784735\n",
        "rmse"
       ]
      },
      {
       "output_type": "stream",
       "stream": "stdout",
       "text": [
        " 1.27104256886\n"
       ]
      }
     ],
     "prompt_number": 75
    },
    {
     "cell_type": "markdown",
     "metadata": {},
     "source": [
      "### Writing Your Own Custom Transformers"
     ]
    },
    {
     "cell_type": "markdown",
     "metadata": {},
     "source": [
      "Any feature extraction tasks can be wrapped as a Plain Old Python Object into a custom transformer. A transformer is just an object that responds to `fit`, `transform`, and `fit_transform`."
     ]
    },
    {
     "cell_type": "markdown",
     "metadata": {},
     "source": [
      "Sometimes transformers are very simple, like `BleepCountTransformer`, which just counts the number of \"*\"s. Such transformers are \"stateless\" \u2013 they don't need to be fitted, so fit is a no-op:"
     ]
    },
    {
     "cell_type": "code",
     "collapsed": false,
     "input": [
      "class BleepCountTransformer(TransformerMixin):\n",
      "    \"\"\" A feature selector for scikit-learn's Pipeline class that counts\n",
      "        the occurence of \"*\".\n",
      "    \"\"\"\n",
      "    def count_bleeps(self, X):\n",
      "        return X.count(\"*\")\n",
      "    \n",
      "    def transform(self, X):\n",
      "        vecfunc = np.vectorize(self.count_bleeps)\n",
      "        return vecfunc(X).astype(float)\n",
      "    \n",
      "    def fit(self, X, y=None):\n",
      "        return self"
     ],
     "language": "python",
     "metadata": {},
     "outputs": [],
     "prompt_number": 76
    },
    {
     "cell_type": "code",
     "collapsed": false,
     "input": [
      "class ColumnSelector(TransformerMixin):\n",
      "    \"\"\" A feature selector for scikit-learn's Pipeline class that returns\n",
      "        specified columns as a numpy nested array from a nested numpy array.\n",
      "    \"\"\"\n",
      "    def __init__(self, cols):\n",
      "        self.cols = cols\n",
      "        \n",
      "    def transform(self, X):\n",
      "        if type(self.cols) == tuple:\n",
      "            return X[:, self.cols]\n",
      "        else:\n",
      "            return X[:, [self.cols]]\n",
      "\n",
      "    def fit(self, X, y=None):\n",
      "        return self"
     ],
     "language": "python",
     "metadata": {},
     "outputs": [],
     "prompt_number": 77
    },
    {
     "cell_type": "code",
     "collapsed": false,
     "input": [
      "class ArrayUpDimension(TransformerMixin):\n",
      "    \"\"\" A feature selector for scikit-learn's Pipeline class that converts\n",
      "        a nested numpy array into an unnested numpy array.\n",
      "    \"\"\"\n",
      "    def transform(self, X):\n",
      "        return X.reshape(X.shape[0] * X.shape[1])\n",
      "\n",
      "    def fit(self, X, y=None):\n",
      "        return self"
     ],
     "language": "python",
     "metadata": {},
     "outputs": [],
     "prompt_number": 78
    },
    {
     "cell_type": "markdown",
     "metadata": {},
     "source": [
      "Sometimes transformers do need to be fitted. For example, when we want to wrap a scikit-learn model and make it behave like a transformer. These are useful when we want a model to generate features for another model. It needs to be fitted in order to train the model it wraps."
     ]
    },
    {
     "cell_type": "code",
     "collapsed": false,
     "input": [
      "class ModelTransformer(TransformerMixin):\n",
      "    \"\"\" A wrapper for scikit-learn's Pipeline class that takes a classifier\n",
      "        and makes it behave like a transformer.\n",
      "    \"\"\"\n",
      "    def __init__(self, model):\n",
      "        self.model = model\n",
      "\n",
      "    def fit(self, *args, **kwargs):\n",
      "        self.model.fit(*args, **kwargs)\n",
      "        return self\n",
      "\n",
      "    def transform(self, X, **transform_params):\n",
      "        return pd.DataFrame(self.model.predict(X))"
     ],
     "language": "python",
     "metadata": {},
     "outputs": [],
     "prompt_number": 79
    },
    {
     "cell_type": "markdown",
     "metadata": {},
     "source": [
      "#### Custom Transformer Gotchas\n",
      "We need to pay attention to what the input and output of each step in the pipeline is. Ideally, they'd all be Numpy arrays, since that's what scikit-learn expects."
     ]
    },
    {
     "cell_type": "markdown",
     "metadata": {},
     "source": [
      "### Combining Pipelines and FeatureUnions"
     ]
    },
    {
     "cell_type": "markdown",
     "metadata": {},
     "source": [
      "Sklearn's FeatureUnion module applies a list of transformer objects in parallel to the input data, then concatenates the results. This is useful to combine several feature extraction mechanisms into a single transformer."
     ]
    },
    {
     "cell_type": "markdown",
     "metadata": {},
     "source": [
      "<img src=\"image/pipeline_union.png\" align=\"left\" width=\"350px\" />"
     ]
    },
    {
     "cell_type": "code",
     "collapsed": false,
     "input": [
      "count_pca_featurizer = Pipeline([\n",
      "    ('extract_titles', ColumnSelector(cols=(0))),\n",
      "    ('up_dim', ArrayUpDimension()),\n",
      "    ('vect', CountVectorizer()),\n",
      "    ('to_dense', DenseTransformer()),\n",
      "    ('reduce_dim', PCA(n_components=50))\n",
      "])\n",
      "\n",
      "bleep_featurizer = Pipeline([\n",
      "    ('extract_titles', ColumnSelector(cols=(0))),\n",
      "    ('count_bleeps', BleepCountTransformer())\n",
      "])\n",
      "\n",
      "features = FeatureUnion([\n",
      "  ('bleep_featurizer', bleep_featurizer),\n",
      "  ('count_pca_featurizer', count_pca_featurizer)\n",
      "])\n",
      "\n",
      "union_pipe = Pipeline([\n",
      "  ('feature_union', features),\n",
      "  ('clf', LinearRegression())\n",
      "])"
     ],
     "language": "python",
     "metadata": {},
     "outputs": [],
     "prompt_number": 80
    },
    {
     "cell_type": "code",
     "collapsed": false,
     "input": [
      "X = df.values\n",
      "y = df.log_views\n",
      "\n",
      "X_train, X_test, y_train, y_test = train_test_split(X, y, test_size=0.33, random_state=12345)"
     ],
     "language": "python",
     "metadata": {},
     "outputs": [],
     "prompt_number": 81
    },
    {
     "cell_type": "code",
     "collapsed": false,
     "input": [
      "clf = union_pipe.fit(X_train, y_train)\n",
      "predictions = clf.predict(X_test)\n",
      "print \"rmse\", np.sqrt(np.mean((predictions - y_test)**2))"
     ],
     "language": "python",
     "metadata": {},
     "outputs": [
      {
       "output_type": "stream",
       "stream": "stdout",
       "text": [
        "rmse 1.27219959245\n"
       ]
      }
     ],
     "prompt_number": 82
    },
    {
     "cell_type": "markdown",
     "metadata": {},
     "source": [
      "### Chaining and Combining Pipelines To Organize Complex Models"
     ]
    },
    {
     "cell_type": "markdown",
     "metadata": {},
     "source": [
      "```python\n",
      "pipeline = Pipeline([\n",
      "    ('features', FeatureUnion([\n",
      "        ('continuous', Pipeline([\n",
      "            ('extract', ColumnExtractor(CONTINUOUS_FIELDS)),\n",
      "            ('scale', Normalizer())\n",
      "        ])),\n",
      "        ('factors', Pipeline([\n",
      "            ('extract', ColumnExtractor(FACTOR_FIELDS)),\n",
      "            ('one_hot', OneHotEncoder(n_values=5)),\n",
      "            ('to_dense', DenseTransformer())\n",
      "        ])),\n",
      "        ('weekday', Pipeline([\n",
      "            ('extract', DayOfWeekTransformer()),\n",
      "            ('one_hot', OneHotEncoder()),\n",
      "            ('to_dense', DenseTransformer())\n",
      "        ])),\n",
      "        ('hour_of_day', HourOfDayTransformer()),\n",
      "        ('month', Pipeline([\n",
      "            ('extract', ColumnExtractor(['datetime'])),\n",
      "            ('to_month', DateTransformer()),\n",
      "            ('one_hot', OneHotEncoder()),\n",
      "            ('to_dense', DenseTransformer())\n",
      "        ])),\n",
      "        ('growth', Pipeline([\n",
      "            ('datetime', ColumnExtractor(['datetime'])),\n",
      "            ('to_numeric', MatrixConversion(int)),\n",
      "            ('regression', ModelTransformer(LinearRegression()))\n",
      "        ]))\n",
      "    ])),\n",
      "    ('estimators', FeatureUnion([\n",
      "        ('knn', ModelTransformer(KNeighborsRegressor(n_neighbors=5))),\n",
      "        ('gbr', ModelTransformer(GradientBoostingRegressor())),\n",
      "        ('dtr', ModelTransformer(DecisionTreeRegressor())),\n",
      "        ('etr', ModelTransformer(ExtraTreesRegressor())),\n",
      "        ('rfr', ModelTransformer(RandomForestRegressor())),\n",
      "        ('par', ModelTransformer(PassiveAggressiveRegressor())),\n",
      "        ('en', ModelTransformer(ElasticNet())),\n",
      "        ('cluster', ModelTransformer(KMeans(n_clusters=2)))\n",
      "    ])),\n",
      "    ('estimator', KNeighborsRegressor())\n",
      "])\n",
      "```"
     ]
    }
   ],
   "metadata": {}
  }
 ]
}